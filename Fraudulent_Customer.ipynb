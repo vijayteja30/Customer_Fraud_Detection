{
 "cells": [
  {
   "cell_type": "code",
   "execution_count": 1,
   "metadata": {},
   "outputs": [],
   "source": [
    "# importing Libraries\n",
    "\n",
    "\n",
    "from __future__ import absolute_import,division,print_function,unicode_literals\n",
    "\n",
    "import tensorflow as tf, pandas as pd, numpy as np\n",
    "import matplotlib.pyplot as plt\n",
    "import os,json\n",
    "import tensorflow_datasets as tfds\n",
    "from IPython.display import clear_output"
   ]
  },
  {
   "cell_type": "code",
   "execution_count": 2,
   "metadata": {},
   "outputs": [],
   "source": [
    "#changing the directory path to Downloads folder where my data exists for feeding an algorithm\n",
    "os.chdir(\"../Downloads\")"
   ]
  },
  {
   "cell_type": "code",
   "execution_count": 3,
   "metadata": {},
   "outputs": [],
   "source": [
    "#Fetching the data from file and loading into variable memory\n",
    "with open(os.getcwd()+\"/customersdata.json\",\"r+\") as fd:\n",
    "    customers_data = [json.loads(i) for i in fd.readlines()]\n"
   ]
  },
  {
   "cell_type": "code",
   "execution_count": 4,
   "metadata": {},
   "outputs": [],
   "source": [
    "# payment_type, payment_provider, payment_issuer = set(),set(),set()\n",
    "# for customer in customers_data:\n",
    "#     for payment in customer[\"paymentMethods\"]:\n",
    "#         payment_type.add(payment[\"paymentMethodType\"])\n",
    "#         payment_provider.add(payment[\"paymentMethodProvider\"])\n",
    "#         payment_issuer.add(payment[\"paymentMethodIssuer\"])"
   ]
  },
  {
   "cell_type": "code",
   "execution_count": 5,
   "metadata": {},
   "outputs": [],
   "source": [
    "# payment_type,payment_provider,payment_issuer"
   ]
  },
  {
   "cell_type": "markdown",
   "metadata": {},
   "source": [
    "<h1> extracting the Features from Data </h1>\n",
    "<ul>\n",
    "    <li>After inspecting the data Fraudulent column is used as Label predictor</li>\n",
    "    <li>customer details like email, phone, device, ip details changes for every customer so, if we keep those features might not be helpful for algorithm to analyze underlying patterns so removing them </li>\n",
    "    <li>There might be chances of having customer address & orders addresses are different which might be helpful to analyze underlying patterns whether fraudulent or not. So, creating new feature like \"address_count\" based on customers original address & orders addresses </li>\n",
    "    <li>Orders Id, Amount changes for every order mightn't be helpful to analyze patterns & status field also</li>\n",
    "    <li>Payments method, provider, issuers details,Id changes for every payment method mightn't be helpful to analyze patterns</li>\n",
    "    <li>Payments gateways added count & payment type might be helpful to analyze patterns </li>\n",
    "    <li>In Transaction Id,order Id, payment Id changes frequently for every transaction generally not necessary </li>\n",
    "</ul>"
   ]
  },
  {
   "cell_type": "code",
   "execution_count": 6,
   "metadata": {},
   "outputs": [],
   "source": [
    "def address_count(address,orders_data):\n",
    "    count = 1\n",
    "    if(len(orders_data) == 0):\n",
    "        return count\n",
    "    else:\n",
    "        for order in orders_data:\n",
    "            if(order[\"orderShippingAddress\"] != address):\n",
    "                count+=1\n",
    "        return count\n",
    "def payment_information(payment_details):\n",
    "    payment_data = []\n",
    "    payment_info = {}\n",
    "    if(len(payment_details) == 0):\n",
    "        payment_info[\"payment_type\"] = \"N/A\"\n",
    "        payment_info[\"payment_provider\"] = \"N/A\"\n",
    "        payment_info[\"payment_issuer\"] = \"N/A\"\n",
    "        payment_data.append(payment_info)\n",
    "        return payment_data\n",
    "    else:\n",
    "        for i in payment_details:\n",
    "            payment_info = {}\n",
    "            payment_info[\"payment_type\"] = i[\"paymentMethodType\"]\n",
    "            payment_info[\"payment_provider\"] = i[\"paymentMethodProvider\"]\n",
    "            payment_info[\"payment_issuer\"] = i[\"paymentMethodIssuer\"]\n",
    "            payment_data.append(payment_info)\n",
    "        return payment_data"
   ]
  },
  {
   "cell_type": "code",
   "execution_count": 7,
   "metadata": {},
   "outputs": [],
   "source": [
    "modified_customers = []\n",
    "for customer in customers_data[:]:\n",
    "    data = {}\n",
    "    data[\"fraudulent\"] = 1 if(customer[\"fraudulent\"]) else 0\n",
    "    data[\"address_count\"] = address_count(customer[\"customer\"][\"customerBillingAddress\"], customer[\"orders\"])\n",
    "    data[\"payment_gateways_count\"] = len(customer[\"paymentMethods\"])\n",
    "    for i in payment_information(customer[\"paymentMethods\"]):\n",
    "        customer_dict = data.copy()\n",
    "        customer_dict.update(i)\n",
    "        modified_customers.append(customer_dict)"
   ]
  },
  {
   "cell_type": "code",
   "execution_count": 8,
   "metadata": {},
   "outputs": [
    {
     "data": {
      "text/html": [
       "<div>\n",
       "<style scoped>\n",
       "    .dataframe tbody tr th:only-of-type {\n",
       "        vertical-align: middle;\n",
       "    }\n",
       "\n",
       "    .dataframe tbody tr th {\n",
       "        vertical-align: top;\n",
       "    }\n",
       "\n",
       "    .dataframe thead th {\n",
       "        text-align: right;\n",
       "    }\n",
       "</style>\n",
       "<table border=\"1\" class=\"dataframe\">\n",
       "  <thead>\n",
       "    <tr style=\"text-align: right;\">\n",
       "      <th></th>\n",
       "      <th>fraudulent</th>\n",
       "      <th>address_count</th>\n",
       "      <th>payment_gateways_count</th>\n",
       "      <th>payment_type</th>\n",
       "    </tr>\n",
       "  </thead>\n",
       "  <tbody>\n",
       "    <tr>\n",
       "      <td>0</td>\n",
       "      <td>0</td>\n",
       "      <td>1</td>\n",
       "      <td>1</td>\n",
       "      <td>card</td>\n",
       "    </tr>\n",
       "    <tr>\n",
       "      <td>1</td>\n",
       "      <td>1</td>\n",
       "      <td>3</td>\n",
       "      <td>7</td>\n",
       "      <td>bitcoin</td>\n",
       "    </tr>\n",
       "    <tr>\n",
       "      <td>2</td>\n",
       "      <td>1</td>\n",
       "      <td>3</td>\n",
       "      <td>7</td>\n",
       "      <td>card</td>\n",
       "    </tr>\n",
       "    <tr>\n",
       "      <td>3</td>\n",
       "      <td>1</td>\n",
       "      <td>3</td>\n",
       "      <td>7</td>\n",
       "      <td>card</td>\n",
       "    </tr>\n",
       "    <tr>\n",
       "      <td>4</td>\n",
       "      <td>1</td>\n",
       "      <td>3</td>\n",
       "      <td>7</td>\n",
       "      <td>card</td>\n",
       "    </tr>\n",
       "    <tr>\n",
       "      <td>...</td>\n",
       "      <td>...</td>\n",
       "      <td>...</td>\n",
       "      <td>...</td>\n",
       "      <td>...</td>\n",
       "    </tr>\n",
       "    <tr>\n",
       "      <td>349</td>\n",
       "      <td>1</td>\n",
       "      <td>4</td>\n",
       "      <td>6</td>\n",
       "      <td>card</td>\n",
       "    </tr>\n",
       "    <tr>\n",
       "      <td>350</td>\n",
       "      <td>0</td>\n",
       "      <td>3</td>\n",
       "      <td>4</td>\n",
       "      <td>card</td>\n",
       "    </tr>\n",
       "    <tr>\n",
       "      <td>351</td>\n",
       "      <td>0</td>\n",
       "      <td>3</td>\n",
       "      <td>4</td>\n",
       "      <td>paypal</td>\n",
       "    </tr>\n",
       "    <tr>\n",
       "      <td>352</td>\n",
       "      <td>0</td>\n",
       "      <td>3</td>\n",
       "      <td>4</td>\n",
       "      <td>card</td>\n",
       "    </tr>\n",
       "    <tr>\n",
       "      <td>353</td>\n",
       "      <td>0</td>\n",
       "      <td>3</td>\n",
       "      <td>4</td>\n",
       "      <td>apple pay</td>\n",
       "    </tr>\n",
       "  </tbody>\n",
       "</table>\n",
       "<p>354 rows × 4 columns</p>\n",
       "</div>"
      ],
      "text/plain": [
       "     fraudulent  address_count  payment_gateways_count payment_type\n",
       "0             0              1                       1         card\n",
       "1             1              3                       7      bitcoin\n",
       "2             1              3                       7         card\n",
       "3             1              3                       7         card\n",
       "4             1              3                       7         card\n",
       "..          ...            ...                     ...          ...\n",
       "349           1              4                       6         card\n",
       "350           0              3                       4         card\n",
       "351           0              3                       4       paypal\n",
       "352           0              3                       4         card\n",
       "353           0              3                       4    apple pay\n",
       "\n",
       "[354 rows x 4 columns]"
      ]
     },
     "execution_count": 8,
     "metadata": {},
     "output_type": "execute_result"
    }
   ],
   "source": [
    "df = pd.DataFrame(modified_customers)\n",
    "df.pop(\"payment_issuer\") #removed this feature column to check accuracy improving or not\n",
    "df.pop(\"payment_provider\") #removed this feature column to check accuracy improving or not\n",
    "df"
   ]
  },
  {
   "cell_type": "code",
   "execution_count": 9,
   "metadata": {},
   "outputs": [
    {
     "data": {
      "text/html": [
       "<div>\n",
       "<style scoped>\n",
       "    .dataframe tbody tr th:only-of-type {\n",
       "        vertical-align: middle;\n",
       "    }\n",
       "\n",
       "    .dataframe tbody tr th {\n",
       "        vertical-align: top;\n",
       "    }\n",
       "\n",
       "    .dataframe thead th {\n",
       "        text-align: right;\n",
       "    }\n",
       "</style>\n",
       "<table border=\"1\" class=\"dataframe\">\n",
       "  <thead>\n",
       "    <tr style=\"text-align: right;\">\n",
       "      <th></th>\n",
       "      <th>fraudulent</th>\n",
       "      <th>address_count</th>\n",
       "      <th>payment_gateways_count</th>\n",
       "      <th>payment_type</th>\n",
       "    </tr>\n",
       "  </thead>\n",
       "  <tbody>\n",
       "    <tr>\n",
       "      <td>250</td>\n",
       "      <td>0</td>\n",
       "      <td>2</td>\n",
       "      <td>3</td>\n",
       "      <td>card</td>\n",
       "    </tr>\n",
       "    <tr>\n",
       "      <td>251</td>\n",
       "      <td>0</td>\n",
       "      <td>2</td>\n",
       "      <td>3</td>\n",
       "      <td>card</td>\n",
       "    </tr>\n",
       "    <tr>\n",
       "      <td>252</td>\n",
       "      <td>0</td>\n",
       "      <td>2</td>\n",
       "      <td>3</td>\n",
       "      <td>card</td>\n",
       "    </tr>\n",
       "    <tr>\n",
       "      <td>253</td>\n",
       "      <td>1</td>\n",
       "      <td>4</td>\n",
       "      <td>1</td>\n",
       "      <td>bitcoin</td>\n",
       "    </tr>\n",
       "    <tr>\n",
       "      <td>254</td>\n",
       "      <td>1</td>\n",
       "      <td>3</td>\n",
       "      <td>5</td>\n",
       "      <td>card</td>\n",
       "    </tr>\n",
       "  </tbody>\n",
       "</table>\n",
       "</div>"
      ],
      "text/plain": [
       "     fraudulent  address_count  payment_gateways_count payment_type\n",
       "250           0              2                       3         card\n",
       "251           0              2                       3         card\n",
       "252           0              2                       3         card\n",
       "253           1              4                       1      bitcoin\n",
       "254           1              3                       5         card"
      ]
     },
     "execution_count": 9,
     "metadata": {},
     "output_type": "execute_result"
    }
   ],
   "source": [
    "#Splitting the DataFrame for training & testing purpose\n",
    "dftrain = df[:250]\n",
    "dftest = df[250:]\n",
    "dftest.head()"
   ]
  },
  {
   "cell_type": "code",
   "execution_count": 10,
   "metadata": {},
   "outputs": [],
   "source": [
    "# seperating the labels predictor from dataframe dataset\n",
    "y_train = dftrain.pop(\"fraudulent\")\n",
    "y_test = dftest.pop(\"fraudulent\")"
   ]
  },
  {
   "cell_type": "code",
   "execution_count": 11,
   "metadata": {},
   "outputs": [],
   "source": [
    "#To Create the Tensorflow dataset object from pandas DataFrame\n",
    "\n",
    "def make_input_fn(features, labels, shuffle = True, batch_size = 10,n_epochs=10):\n",
    "    def input_fn():\n",
    "        ds = tf.data.Dataset.from_tensor_slices((dict(features),labels))\n",
    "        if(shuffle):\n",
    "            ds = ds.shuffle(buffer_size=1000)\n",
    "        ds = ds.batch(batch_size).repeat(n_epochs)\n",
    "        return ds\n",
    "    return input_fn"
   ]
  },
  {
   "cell_type": "code",
   "execution_count": 12,
   "metadata": {},
   "outputs": [],
   "source": [
    "train_input_fn = make_input_fn(dftrain,y_train)\n",
    "test_input_fn = make_input_fn(dftest,y_test,shuffle=False,n_epochs = 1)"
   ]
  },
  {
   "cell_type": "code",
   "execution_count": 13,
   "metadata": {},
   "outputs": [
    {
     "name": "stdout",
     "output_type": "stream",
     "text": [
      "feature_batch keys dict_keys(['address_count', 'payment_gateways_count', 'payment_type'])\n",
      "label batch is: [1 0 1 0 0 0 0 1 0 0]\n"
     ]
    }
   ],
   "source": [
    "ds = make_input_fn(dftrain,y_train)()\n",
    "for feature_batch,label_batch in ds.take(1):\n",
    "    print(\"feature_batch keys\",feature_batch.keys())\n",
    "    print(\"label batch is:\",label_batch.numpy())"
   ]
  },
  {
   "cell_type": "code",
   "execution_count": 14,
   "metadata": {},
   "outputs": [],
   "source": [
    "#creating feature_columns\n",
    "\n",
    "feature_columns = []\n",
    "categorical_columns = [\"payment_type\"]\n",
    "numeric_columns = [\"address_count\",\"payment_gateways_count\"]\n",
    "\n",
    "for key in categorical_columns:\n",
    "    vocabulary_list = df[key].unique()\n",
    "    indicator_column = tf.feature_column.categorical_column_with_vocabulary_list(key,vocabulary_list)\n",
    "    feature_columns.append(tf.feature_column.indicator_column(indicator_column))\n",
    "for key in numeric_columns:\n",
    "    feature_columns.append(tf.feature_column.numeric_column(key))"
   ]
  },
  {
   "cell_type": "code",
   "execution_count": 15,
   "metadata": {},
   "outputs": [
    {
     "name": "stdout",
     "output_type": "stream",
     "text": [
      "WARNING:tensorflow:From C:\\ProgramData\\Anaconda3\\lib\\site-packages\\tensorflow_core\\python\\feature_column\\feature_column_v2.py:4276: IndicatorColumn._variable_shape (from tensorflow.python.feature_column.feature_column_v2) is deprecated and will be removed in a future version.\n",
      "Instructions for updating:\n",
      "The old _FeatureColumn APIs are being deprecated. Please use the new FeatureColumn APIs instead.\n",
      "WARNING:tensorflow:From C:\\ProgramData\\Anaconda3\\lib\\site-packages\\tensorflow_core\\python\\feature_column\\feature_column_v2.py:4331: VocabularyListCategoricalColumn._num_buckets (from tensorflow.python.feature_column.feature_column_v2) is deprecated and will be removed in a future version.\n",
      "Instructions for updating:\n",
      "The old _FeatureColumn APIs are being deprecated. Please use the new FeatureColumn APIs instead.\n"
     ]
    },
    {
     "data": {
      "text/plain": [
       "<tf.Tensor: id=87, shape=(10, 7), dtype=float32, numpy=\n",
       "array([[ 2.,  2.,  0.,  0.,  1.,  0.,  0.],\n",
       "       [ 2.,  1.,  0.,  1.,  0.,  0.,  0.],\n",
       "       [ 1.,  4.,  1.,  0.,  0.,  0.,  0.],\n",
       "       [ 1.,  1.,  0.,  0.,  1.,  0.,  0.],\n",
       "       [ 3.,  4.,  1.,  0.,  0.,  0.,  0.],\n",
       "       [ 2.,  3.,  1.,  0.,  0.,  0.,  0.],\n",
       "       [ 2.,  2.,  1.,  0.,  0.,  0.,  0.],\n",
       "       [ 3., 14.,  0.,  0.,  1.,  0.,  0.],\n",
       "       [ 2.,  3.,  1.,  0.,  0.,  0.,  0.],\n",
       "       [ 1.,  1.,  1.,  0.,  0.,  0.,  0.]], dtype=float32)>"
      ]
     },
     "execution_count": 15,
     "metadata": {},
     "output_type": "execute_result"
    }
   ],
   "source": [
    "tf.keras.layers.DenseFeatures(feature_columns)(feature_batch)"
   ]
  },
  {
   "cell_type": "code",
   "execution_count": 16,
   "metadata": {},
   "outputs": [
    {
     "name": "stdout",
     "output_type": "stream",
     "text": [
      "accuracy                  0.721154\n",
      "accuracy_baseline         0.500000\n",
      "auc                       0.813424\n",
      "auc_precision_recall      0.842487\n",
      "average_loss              0.537789\n",
      "label/mean                0.500000\n",
      "loss                      0.577658\n",
      "precision                 0.701754\n",
      "prediction/mean           0.531797\n",
      "recall                    0.769231\n",
      "global_step             250.000000\n",
      "dtype: float64\n"
     ]
    }
   ],
   "source": [
    "linear_est = tf.estimator.LinearClassifier(feature_columns = feature_columns)\n",
    "\n",
    "linear_est.train(train_input_fn)\n",
    "result = linear_est.evaluate(test_input_fn)\n",
    "clear_output()\n",
    "print(pd.Series(result))"
   ]
  },
  {
   "cell_type": "code",
   "execution_count": 17,
   "metadata": {},
   "outputs": [
    {
     "name": "stdout",
     "output_type": "stream",
     "text": [
      "accuracy                  0.740385\n",
      "accuracy_baseline         0.500000\n",
      "auc                       0.782914\n",
      "auc_precision_recall      0.838037\n",
      "average_loss              0.542021\n",
      "label/mean                0.500000\n",
      "loss                      0.591637\n",
      "precision                 0.765957\n",
      "prediction/mean           0.505234\n",
      "recall                    0.692308\n",
      "global_step             250.000000\n",
      "dtype: float64\n"
     ]
    }
   ],
   "source": [
    "#to imporove accuracy lets try with crossed feature_columns\n",
    "payment_gateway_x_type = [tf.feature_column.crossed_column([\"payment_gateways_count\",\"payment_type\"],hash_bucket_size = 100)]\n",
    "# address_payment_count = payment_gateway_x_type.append(tf.feature_column.crossed_column([\"payment_gateways_count\",\"address_count\"],hash_bucket_size = 100))\n",
    "\n",
    "linear_est = tf.estimator.LinearClassifier(feature_columns = feature_columns+payment_gateway_x_type)\n",
    "linear_est.train(train_input_fn)\n",
    "result = linear_est.evaluate(test_input_fn)\n",
    "clear_output()\n",
    "print(pd.Series(result))"
   ]
  },
  {
   "cell_type": "code",
   "execution_count": 18,
   "metadata": {},
   "outputs": [
    {
     "name": "stdout",
     "output_type": "stream",
     "text": [
      "INFO:tensorflow:Calling model_fn.\n",
      "INFO:tensorflow:Done calling model_fn.\n",
      "INFO:tensorflow:Graph was finalized.\n",
      "INFO:tensorflow:Restoring parameters from C:\\Users\\vijay\\AppData\\Local\\Temp\\tmpkfs8z5jw\\model.ckpt-250\n",
      "INFO:tensorflow:Running local_init_op.\n",
      "INFO:tensorflow:Done running local_init_op.\n"
     ]
    }
   ],
   "source": [
    "pred_dicts = list(linear_est.predict(test_input_fn))\n",
    "probs = [pred[\"probabilities\"][pred[\"class_ids\"][0]] for pred in pred_dicts]\n"
   ]
  },
  {
   "cell_type": "code",
   "execution_count": 19,
   "metadata": {},
   "outputs": [
    {
     "data": {
      "text/plain": [
       "(0, 1.05)"
      ]
     },
     "execution_count": 19,
     "metadata": {},
     "output_type": "execute_result"
    },
    {
     "data": {
      "image/png": "[encoded data removed]",
      "text/plain": [
       "<Figure size 432x288 with 1 Axes>"
      ]
     },
     "metadata": {
      "needs_background": "light"
     },
     "output_type": "display_data"
    }
   ],
   "source": [
    "from sklearn.metrics import roc_curve\n",
    "from matplotlib import pyplot as plt\n",
    "\n",
    "fpr, tpr, _ = roc_curve(y_test, probs)\n",
    "plt.plot(fpr, tpr)\n",
    "plt.title('ROC curve')\n",
    "plt.xlabel('false positive rate')\n",
    "plt.ylabel('true positive rate')\n",
    "plt.xlim(0,)\n",
    "plt.ylim(0,)"
   ]
  }
 ],
 "metadata": {
  "kernelspec": {
   "display_name": "Python 3",
   "language": "python",
   "name": "python3"
  },
  "language_info": {
   "codemirror_mode": {
    "name": "ipython",
    "version": 3
   },
   "file_extension": ".py",
   "mimetype": "text/x-python",
   "name": "python",
   "nbconvert_exporter": "python",
   "pygments_lexer": "ipython3",
   "version": "3.7.4"
  }
 },
 "nbformat": 4,
 "nbformat_minor": 2
}
